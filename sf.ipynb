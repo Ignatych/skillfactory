{
 "cells": [
  {
   "cell_type": "markdown",
   "metadata": {},
   "source": [
    "http://skillfactory.ru/ml-programma-machine-learning"
   ]
  },
  {
   "cell_type": "code",
   "execution_count": 1,
   "metadata": {},
   "outputs": [],
   "source": [
    "import requests\n",
    "from tqdm import tqdm_notebook\n",
    "import pickle\n",
    "import pandas as pd"
   ]
  },
  {
   "cell_type": "code",
   "execution_count": 2,
   "metadata": {},
   "outputs": [
    {
     "data": {
      "application/vnd.jupyter.widget-view+json": {
       "model_id": "75a368b802984d8daa17075ebce0f618",
       "version_major": 2,
       "version_minor": 0
      },
      "text/html": [
       "<p>Failed to display Jupyter Widget of type <code>HBox</code>.</p>\n",
       "<p>\n",
       "  If you're reading this message in Jupyter Notebook or JupyterLab, it may mean\n",
       "  that the widgets JavaScript is still loading. If this message persists, it\n",
       "  likely means that the widgets JavaScript library is either not installed or\n",
       "  not enabled. See the <a href=\"https://ipywidgets.readthedocs.io/en/stable/user_install.html\">Jupyter\n",
       "  Widgets Documentation</a> for setup instructions.\n",
       "</p>\n",
       "<p>\n",
       "  If you're reading this message in another notebook frontend (for example, a static\n",
       "  rendering on GitHub or <a href=\"https://nbviewer.jupyter.org/\">NBViewer</a>),\n",
       "  it may mean that your frontend doesn't currently support widgets.\n",
       "</p>\n"
      ],
      "text/plain": [
       "HBox(children=(IntProgress(value=0, max=1000), HTML(value='')))"
      ]
     },
     "metadata": {},
     "output_type": "display_data"
    },
    {
     "name": "stdout",
     "output_type": "stream",
     "text": [
      "\n"
     ]
    }
   ],
   "source": [
    "# У HH есть отличное API https://dev.hh.ru\n",
    "# Документация http://github.com/hhru/api\n",
    "\n",
    "vac_url = 'https://api.hh.ru/vacancies/{}'\n",
    "\n",
    "# Давайте выкачаем немного вакансий\n",
    "# Они полностью открыты через API (если их не закрыл работодатель)\n",
    "\n",
    "vac = []\n",
    "for i in tqdm_notebook(range(23244255, 23244255-10000, -1)):\n",
    "    vac.append(requests.get(vac_url.format(i)).json())\n",
    "    \n",
    "# не хотите решать данные самостоятельно, можно найти тут https://habrahabr.ru/company/hh/blog/268319/"
   ]
  },
  {
   "cell_type": "code",
   "execution_count": 50,
   "metadata": {},
   "outputs": [
    {
     "data": {
      "text/plain": [
       "{'accept_handicapped': False,\n",
       " 'accept_kids': False,\n",
       " 'address': None,\n",
       " 'allow_messages': True,\n",
       " 'alternate_url': 'https://hh.ru/vacancy/23244255',\n",
       " 'apply_alternate_url': 'https://hh.ru/applicant/vacancy_response?vacancyId=23244255',\n",
       " 'archived': True,\n",
       " 'area': {'id': '160', 'name': 'Алматы', 'url': 'https://api.hh.ru/areas/160'},\n",
       " 'billing_type': {'id': 'standard', 'name': 'Стандарт'},\n",
       " 'branded_description': None,\n",
       " 'code': None,\n",
       " 'contacts': None,\n",
       " 'created_at': '2017-10-26T09:27:08+0300',\n",
       " 'department': None,\n",
       " 'description': '<strong>Обязанности:</strong> <ul> <li>Погрузка, разгрузка продукции</li> <li>Контроль за техникой</li> </ul> <strong>Требования:</strong> <ul> <li>Наличие удостоверения карщика</li> <li>Опыт работы на аналогичной должности до 1 года</li> </ul> <strong>Условия:</strong> <ul> <li>График работы понедельник-пятница 9.00-18.00, суббота 9.00-16.00</li> <li>Район ул. Рыскулова-Софьи Ковалевской</li> </ul>',\n",
       " 'driver_license_types': [],\n",
       " 'employer': {'alternate_url': 'https://hh.ru/employer/1350660',\n",
       "  'id': '1350660',\n",
       "  'logo_urls': None,\n",
       "  'name': 'C.S.Stone',\n",
       "  'trusted': True,\n",
       "  'url': 'https://api.hh.ru/employers/1350660',\n",
       "  'vacancies_url': 'https://api.hh.ru/vacancies?employer_id=1350660'},\n",
       " 'employment': {'id': 'full', 'name': 'Полная занятость'},\n",
       " 'experience': {'id': 'between1And3', 'name': 'От 1 года до 3 лет'},\n",
       " 'hidden': False,\n",
       " 'id': '23244255',\n",
       " 'key_skills': [],\n",
       " 'name': 'Карщик-грузчик',\n",
       " 'negotiations_url': None,\n",
       " 'premium': False,\n",
       " 'published_at': '2017-10-26T09:27:08+0300',\n",
       " 'quick_responses_allowed': False,\n",
       " 'relations': [],\n",
       " 'response_letter_required': False,\n",
       " 'response_url': None,\n",
       " 'salary': {'currency': 'RUR', 'from': None, 'gross': False, 'to': 120000},\n",
       " 'schedule': {'id': 'fullDay', 'name': 'Полный день'},\n",
       " 'site': {'id': 'hh', 'name': 'hh.ru'},\n",
       " 'specializations': [{'id': '29.495',\n",
       "   'name': 'Грузчик',\n",
       "   'profarea_id': '29',\n",
       "   'profarea_name': 'Рабочий персонал'},\n",
       "  {'id': '21.482',\n",
       "   'name': 'Водитель',\n",
       "   'profarea_id': '21',\n",
       "   'profarea_name': 'Транспорт, логистика'}],\n",
       " 'suitable_resumes_url': None,\n",
       " 'test': None,\n",
       " 'type': {'id': 'open', 'name': 'Открытая'}}"
      ]
     },
     "execution_count": 50,
     "metadata": {},
     "output_type": "execute_result"
    }
   ],
   "source": [
    "# Посмотрим как выглядит одна вакансия\n",
    "\n",
    "vac[0]"
   ]
  },
  {
   "cell_type": "code",
   "execution_count": 51,
   "metadata": {},
   "outputs": [],
   "source": [
    "# переведем все в dataframe\n",
    "\n",
    "df = pd.DataFrame(vac)"
   ]
  },
  {
   "cell_type": "code",
   "execution_count": 52,
   "metadata": {},
   "outputs": [
    {
     "data": {
      "text/html": [
       "<div>\n",
       "<style scoped>\n",
       "    .dataframe tbody tr th:only-of-type {\n",
       "        vertical-align: middle;\n",
       "    }\n",
       "\n",
       "    .dataframe tbody tr th {\n",
       "        vertical-align: top;\n",
       "    }\n",
       "\n",
       "    .dataframe thead th {\n",
       "        text-align: right;\n",
       "    }\n",
       "</style>\n",
       "<table border=\"1\" class=\"dataframe\">\n",
       "  <thead>\n",
       "    <tr style=\"text-align: right;\">\n",
       "      <th></th>\n",
       "      <th>accept_handicapped</th>\n",
       "      <th>accept_kids</th>\n",
       "      <th>address</th>\n",
       "      <th>allow_messages</th>\n",
       "      <th>alternate_url</th>\n",
       "      <th>apply_alternate_url</th>\n",
       "      <th>archived</th>\n",
       "      <th>area</th>\n",
       "      <th>billing_type</th>\n",
       "      <th>branded_description</th>\n",
       "      <th>...</th>\n",
       "      <th>relations</th>\n",
       "      <th>response_letter_required</th>\n",
       "      <th>response_url</th>\n",
       "      <th>salary</th>\n",
       "      <th>schedule</th>\n",
       "      <th>site</th>\n",
       "      <th>specializations</th>\n",
       "      <th>suitable_resumes_url</th>\n",
       "      <th>test</th>\n",
       "      <th>type</th>\n",
       "    </tr>\n",
       "  </thead>\n",
       "  <tbody>\n",
       "    <tr>\n",
       "      <th>0</th>\n",
       "      <td>False</td>\n",
       "      <td>False</td>\n",
       "      <td>None</td>\n",
       "      <td>True</td>\n",
       "      <td>https://hh.ru/vacancy/23244255</td>\n",
       "      <td>https://hh.ru/applicant/vacancy_response?vacan...</td>\n",
       "      <td>True</td>\n",
       "      <td>{'url': 'https://api.hh.ru/areas/160', 'id': '...</td>\n",
       "      <td>{'id': 'standard', 'name': 'Стандарт'}</td>\n",
       "      <td>None</td>\n",
       "      <td>...</td>\n",
       "      <td>[]</td>\n",
       "      <td>False</td>\n",
       "      <td>NaN</td>\n",
       "      <td>{'to': 120000, 'gross': False, 'from': None, '...</td>\n",
       "      <td>{'id': 'fullDay', 'name': 'Полный день'}</td>\n",
       "      <td>{'id': 'hh', 'name': 'hh.ru'}</td>\n",
       "      <td>[{'profarea_id': '29', 'profarea_name': 'Рабоч...</td>\n",
       "      <td>NaN</td>\n",
       "      <td>NaN</td>\n",
       "      <td>{'id': 'open', 'name': 'Открытая'}</td>\n",
       "    </tr>\n",
       "    <tr>\n",
       "      <th>1</th>\n",
       "      <td>False</td>\n",
       "      <td>False</td>\n",
       "      <td>{'building': '13А', 'city': 'Волгоград', 'desc...</td>\n",
       "      <td>True</td>\n",
       "      <td>https://career.ru/vacancy/23244254</td>\n",
       "      <td>https://hh.ru/applicant/vacancy_response?vacan...</td>\n",
       "      <td>True</td>\n",
       "      <td>{'url': 'https://api.hh.ru/areas/24', 'id': '2...</td>\n",
       "      <td>{'id': 'standard', 'name': 'Стандарт'}</td>\n",
       "      <td>None</td>\n",
       "      <td>...</td>\n",
       "      <td>[]</td>\n",
       "      <td>False</td>\n",
       "      <td>NaN</td>\n",
       "      <td>{'to': None, 'gross': False, 'from': 50000, 'c...</td>\n",
       "      <td>{'id': 'shift', 'name': 'Сменный график'}</td>\n",
       "      <td>{'id': 'hh', 'name': 'hh.ru'}</td>\n",
       "      <td>[{'profarea_id': '7', 'profarea_name': 'Автомо...</td>\n",
       "      <td>NaN</td>\n",
       "      <td>NaN</td>\n",
       "      <td>{'id': 'open', 'name': 'Открытая'}</td>\n",
       "    </tr>\n",
       "    <tr>\n",
       "      <th>2</th>\n",
       "      <td>NaN</td>\n",
       "      <td>NaN</td>\n",
       "      <td>NaN</td>\n",
       "      <td>NaN</td>\n",
       "      <td>NaN</td>\n",
       "      <td>NaN</td>\n",
       "      <td>NaN</td>\n",
       "      <td>NaN</td>\n",
       "      <td>NaN</td>\n",
       "      <td>NaN</td>\n",
       "      <td>...</td>\n",
       "      <td>NaN</td>\n",
       "      <td>NaN</td>\n",
       "      <td>NaN</td>\n",
       "      <td>NaN</td>\n",
       "      <td>NaN</td>\n",
       "      <td>NaN</td>\n",
       "      <td>NaN</td>\n",
       "      <td>NaN</td>\n",
       "      <td>NaN</td>\n",
       "      <td>NaN</td>\n",
       "    </tr>\n",
       "  </tbody>\n",
       "</table>\n",
       "<p>3 rows × 38 columns</p>\n",
       "</div>"
      ],
      "text/plain": [
       "  accept_handicapped accept_kids  \\\n",
       "0              False       False   \n",
       "1              False       False   \n",
       "2                NaN         NaN   \n",
       "\n",
       "                                             address allow_messages  \\\n",
       "0                                               None           True   \n",
       "1  {'building': '13А', 'city': 'Волгоград', 'desc...           True   \n",
       "2                                                NaN            NaN   \n",
       "\n",
       "                        alternate_url  \\\n",
       "0      https://hh.ru/vacancy/23244255   \n",
       "1  https://career.ru/vacancy/23244254   \n",
       "2                                 NaN   \n",
       "\n",
       "                                 apply_alternate_url archived  \\\n",
       "0  https://hh.ru/applicant/vacancy_response?vacan...     True   \n",
       "1  https://hh.ru/applicant/vacancy_response?vacan...     True   \n",
       "2                                                NaN      NaN   \n",
       "\n",
       "                                                area  \\\n",
       "0  {'url': 'https://api.hh.ru/areas/160', 'id': '...   \n",
       "1  {'url': 'https://api.hh.ru/areas/24', 'id': '2...   \n",
       "2                                                NaN   \n",
       "\n",
       "                             billing_type branded_description  \\\n",
       "0  {'id': 'standard', 'name': 'Стандарт'}                None   \n",
       "1  {'id': 'standard', 'name': 'Стандарт'}                None   \n",
       "2                                     NaN                 NaN   \n",
       "\n",
       "                  ...                 relations response_letter_required  \\\n",
       "0                 ...                        []                    False   \n",
       "1                 ...                        []                    False   \n",
       "2                 ...                       NaN                      NaN   \n",
       "\n",
       "  response_url                                             salary  \\\n",
       "0          NaN  {'to': 120000, 'gross': False, 'from': None, '...   \n",
       "1          NaN  {'to': None, 'gross': False, 'from': 50000, 'c...   \n",
       "2          NaN                                                NaN   \n",
       "\n",
       "                                    schedule                           site  \\\n",
       "0   {'id': 'fullDay', 'name': 'Полный день'}  {'id': 'hh', 'name': 'hh.ru'}   \n",
       "1  {'id': 'shift', 'name': 'Сменный график'}  {'id': 'hh', 'name': 'hh.ru'}   \n",
       "2                                        NaN                            NaN   \n",
       "\n",
       "                                     specializations suitable_resumes_url  \\\n",
       "0  [{'profarea_id': '29', 'profarea_name': 'Рабоч...                  NaN   \n",
       "1  [{'profarea_id': '7', 'profarea_name': 'Автомо...                  NaN   \n",
       "2                                                NaN                  NaN   \n",
       "\n",
       "  test                                type  \n",
       "0  NaN  {'id': 'open', 'name': 'Открытая'}  \n",
       "1  NaN  {'id': 'open', 'name': 'Открытая'}  \n",
       "2  NaN                                 NaN  \n",
       "\n",
       "[3 rows x 38 columns]"
      ]
     },
     "execution_count": 52,
     "metadata": {},
     "output_type": "execute_result"
    }
   ],
   "source": [
    "# как же выглядит\n",
    "\n",
    "df.head(3)"
   ]
  },
  {
   "cell_type": "code",
   "execution_count": 53,
   "metadata": {},
   "outputs": [
    {
     "data": {
      "text/html": [
       "<div>\n",
       "<style scoped>\n",
       "    .dataframe tbody tr th:only-of-type {\n",
       "        vertical-align: middle;\n",
       "    }\n",
       "\n",
       "    .dataframe tbody tr th {\n",
       "        vertical-align: top;\n",
       "    }\n",
       "\n",
       "    .dataframe thead th {\n",
       "        text-align: right;\n",
       "    }\n",
       "</style>\n",
       "<table border=\"1\" class=\"dataframe\">\n",
       "  <thead>\n",
       "    <tr style=\"text-align: right;\">\n",
       "      <th></th>\n",
       "      <th>0</th>\n",
       "      <th>1</th>\n",
       "      <th>2</th>\n",
       "    </tr>\n",
       "  </thead>\n",
       "  <tbody>\n",
       "    <tr>\n",
       "      <th>accept_handicapped</th>\n",
       "      <td>False</td>\n",
       "      <td>False</td>\n",
       "      <td>NaN</td>\n",
       "    </tr>\n",
       "    <tr>\n",
       "      <th>accept_kids</th>\n",
       "      <td>False</td>\n",
       "      <td>False</td>\n",
       "      <td>NaN</td>\n",
       "    </tr>\n",
       "    <tr>\n",
       "      <th>address</th>\n",
       "      <td>None</td>\n",
       "      <td>{'building': '13А', 'city': 'Волгоград', 'desc...</td>\n",
       "      <td>NaN</td>\n",
       "    </tr>\n",
       "    <tr>\n",
       "      <th>allow_messages</th>\n",
       "      <td>True</td>\n",
       "      <td>True</td>\n",
       "      <td>NaN</td>\n",
       "    </tr>\n",
       "    <tr>\n",
       "      <th>alternate_url</th>\n",
       "      <td>https://hh.ru/vacancy/23244255</td>\n",
       "      <td>https://career.ru/vacancy/23244254</td>\n",
       "      <td>NaN</td>\n",
       "    </tr>\n",
       "    <tr>\n",
       "      <th>apply_alternate_url</th>\n",
       "      <td>https://hh.ru/applicant/vacancy_response?vacan...</td>\n",
       "      <td>https://hh.ru/applicant/vacancy_response?vacan...</td>\n",
       "      <td>NaN</td>\n",
       "    </tr>\n",
       "    <tr>\n",
       "      <th>archived</th>\n",
       "      <td>True</td>\n",
       "      <td>True</td>\n",
       "      <td>NaN</td>\n",
       "    </tr>\n",
       "    <tr>\n",
       "      <th>area</th>\n",
       "      <td>{'url': 'https://api.hh.ru/areas/160', 'id': '...</td>\n",
       "      <td>{'url': 'https://api.hh.ru/areas/24', 'id': '2...</td>\n",
       "      <td>NaN</td>\n",
       "    </tr>\n",
       "    <tr>\n",
       "      <th>billing_type</th>\n",
       "      <td>{'id': 'standard', 'name': 'Стандарт'}</td>\n",
       "      <td>{'id': 'standard', 'name': 'Стандарт'}</td>\n",
       "      <td>NaN</td>\n",
       "    </tr>\n",
       "    <tr>\n",
       "      <th>branded_description</th>\n",
       "      <td>None</td>\n",
       "      <td>None</td>\n",
       "      <td>NaN</td>\n",
       "    </tr>\n",
       "    <tr>\n",
       "      <th>code</th>\n",
       "      <td>None</td>\n",
       "      <td>None</td>\n",
       "      <td>NaN</td>\n",
       "    </tr>\n",
       "    <tr>\n",
       "      <th>contacts</th>\n",
       "      <td>None</td>\n",
       "      <td>None</td>\n",
       "      <td>NaN</td>\n",
       "    </tr>\n",
       "    <tr>\n",
       "      <th>created_at</th>\n",
       "      <td>2017-10-26T09:27:08+0300</td>\n",
       "      <td>2017-10-26T09:27:07+0300</td>\n",
       "      <td>NaN</td>\n",
       "    </tr>\n",
       "    <tr>\n",
       "      <th>department</th>\n",
       "      <td>None</td>\n",
       "      <td>None</td>\n",
       "      <td>NaN</td>\n",
       "    </tr>\n",
       "    <tr>\n",
       "      <th>description</th>\n",
       "      <td>&lt;strong&gt;Обязанности:&lt;/strong&gt; &lt;ul&gt; &lt;li&gt;Погрузк...</td>\n",
       "      <td>&lt;p&gt;&lt;strong&gt;Сеть автосалонов «Авто-Брокер» приг...</td>\n",
       "      <td>Not Found</td>\n",
       "    </tr>\n",
       "    <tr>\n",
       "      <th>driver_license_types</th>\n",
       "      <td>[]</td>\n",
       "      <td>[]</td>\n",
       "      <td>NaN</td>\n",
       "    </tr>\n",
       "    <tr>\n",
       "      <th>employer</th>\n",
       "      <td>{'logo_urls': None, 'vacancies_url': 'https://...</td>\n",
       "      <td>{'logo_urls': {'90': 'https://hhcdn.ru/employe...</td>\n",
       "      <td>NaN</td>\n",
       "    </tr>\n",
       "    <tr>\n",
       "      <th>employment</th>\n",
       "      <td>{'id': 'full', 'name': 'Полная занятость'}</td>\n",
       "      <td>{'id': 'full', 'name': 'Полная занятость'}</td>\n",
       "      <td>NaN</td>\n",
       "    </tr>\n",
       "    <tr>\n",
       "      <th>errors</th>\n",
       "      <td>NaN</td>\n",
       "      <td>NaN</td>\n",
       "      <td>[{'type': 'not_found'}]</td>\n",
       "    </tr>\n",
       "    <tr>\n",
       "      <th>experience</th>\n",
       "      <td>{'id': 'between1And3', 'name': 'От 1 года до 3...</td>\n",
       "      <td>{'id': 'between1And3', 'name': 'От 1 года до 3...</td>\n",
       "      <td>NaN</td>\n",
       "    </tr>\n",
       "    <tr>\n",
       "      <th>hidden</th>\n",
       "      <td>False</td>\n",
       "      <td>False</td>\n",
       "      <td>NaN</td>\n",
       "    </tr>\n",
       "    <tr>\n",
       "      <th>id</th>\n",
       "      <td>23244255</td>\n",
       "      <td>23244254</td>\n",
       "      <td>NaN</td>\n",
       "    </tr>\n",
       "    <tr>\n",
       "      <th>key_skills</th>\n",
       "      <td>[]</td>\n",
       "      <td>[{'name': 'B2C продажи'}, {'name': 'Активные п...</td>\n",
       "      <td>NaN</td>\n",
       "    </tr>\n",
       "    <tr>\n",
       "      <th>name</th>\n",
       "      <td>Карщик-грузчик</td>\n",
       "      <td>Менеджер по продажам автомобилей</td>\n",
       "      <td>NaN</td>\n",
       "    </tr>\n",
       "    <tr>\n",
       "      <th>negotiations_url</th>\n",
       "      <td>NaN</td>\n",
       "      <td>NaN</td>\n",
       "      <td>NaN</td>\n",
       "    </tr>\n",
       "    <tr>\n",
       "      <th>premium</th>\n",
       "      <td>False</td>\n",
       "      <td>False</td>\n",
       "      <td>NaN</td>\n",
       "    </tr>\n",
       "    <tr>\n",
       "      <th>published_at</th>\n",
       "      <td>2017-10-26T09:27:08+0300</td>\n",
       "      <td>2017-10-26T09:27:07+0300</td>\n",
       "      <td>NaN</td>\n",
       "    </tr>\n",
       "    <tr>\n",
       "      <th>quick_responses_allowed</th>\n",
       "      <td>False</td>\n",
       "      <td>False</td>\n",
       "      <td>NaN</td>\n",
       "    </tr>\n",
       "    <tr>\n",
       "      <th>relations</th>\n",
       "      <td>[]</td>\n",
       "      <td>[]</td>\n",
       "      <td>NaN</td>\n",
       "    </tr>\n",
       "    <tr>\n",
       "      <th>response_letter_required</th>\n",
       "      <td>False</td>\n",
       "      <td>False</td>\n",
       "      <td>NaN</td>\n",
       "    </tr>\n",
       "    <tr>\n",
       "      <th>response_url</th>\n",
       "      <td>NaN</td>\n",
       "      <td>NaN</td>\n",
       "      <td>NaN</td>\n",
       "    </tr>\n",
       "    <tr>\n",
       "      <th>salary</th>\n",
       "      <td>{'to': 120000, 'gross': False, 'from': None, '...</td>\n",
       "      <td>{'to': None, 'gross': False, 'from': 50000, 'c...</td>\n",
       "      <td>NaN</td>\n",
       "    </tr>\n",
       "    <tr>\n",
       "      <th>schedule</th>\n",
       "      <td>{'id': 'fullDay', 'name': 'Полный день'}</td>\n",
       "      <td>{'id': 'shift', 'name': 'Сменный график'}</td>\n",
       "      <td>NaN</td>\n",
       "    </tr>\n",
       "    <tr>\n",
       "      <th>site</th>\n",
       "      <td>{'id': 'hh', 'name': 'hh.ru'}</td>\n",
       "      <td>{'id': 'hh', 'name': 'hh.ru'}</td>\n",
       "      <td>NaN</td>\n",
       "    </tr>\n",
       "    <tr>\n",
       "      <th>specializations</th>\n",
       "      <td>[{'profarea_id': '29', 'profarea_name': 'Рабоч...</td>\n",
       "      <td>[{'profarea_id': '7', 'profarea_name': 'Автомо...</td>\n",
       "      <td>NaN</td>\n",
       "    </tr>\n",
       "    <tr>\n",
       "      <th>suitable_resumes_url</th>\n",
       "      <td>NaN</td>\n",
       "      <td>NaN</td>\n",
       "      <td>NaN</td>\n",
       "    </tr>\n",
       "    <tr>\n",
       "      <th>test</th>\n",
       "      <td>NaN</td>\n",
       "      <td>NaN</td>\n",
       "      <td>NaN</td>\n",
       "    </tr>\n",
       "    <tr>\n",
       "      <th>type</th>\n",
       "      <td>{'id': 'open', 'name': 'Открытая'}</td>\n",
       "      <td>{'id': 'open', 'name': 'Открытая'}</td>\n",
       "      <td>NaN</td>\n",
       "    </tr>\n",
       "  </tbody>\n",
       "</table>\n",
       "</div>"
      ],
      "text/plain": [
       "                                                                          0  \\\n",
       "accept_handicapped                                                    False   \n",
       "accept_kids                                                           False   \n",
       "address                                                                None   \n",
       "allow_messages                                                         True   \n",
       "alternate_url                                https://hh.ru/vacancy/23244255   \n",
       "apply_alternate_url       https://hh.ru/applicant/vacancy_response?vacan...   \n",
       "archived                                                               True   \n",
       "area                      {'url': 'https://api.hh.ru/areas/160', 'id': '...   \n",
       "billing_type                         {'id': 'standard', 'name': 'Стандарт'}   \n",
       "branded_description                                                    None   \n",
       "code                                                                   None   \n",
       "contacts                                                               None   \n",
       "created_at                                         2017-10-26T09:27:08+0300   \n",
       "department                                                             None   \n",
       "description               <strong>Обязанности:</strong> <ul> <li>Погрузк...   \n",
       "driver_license_types                                                     []   \n",
       "employer                  {'logo_urls': None, 'vacancies_url': 'https://...   \n",
       "employment                       {'id': 'full', 'name': 'Полная занятость'}   \n",
       "errors                                                                  NaN   \n",
       "experience                {'id': 'between1And3', 'name': 'От 1 года до 3...   \n",
       "hidden                                                                False   \n",
       "id                                                                 23244255   \n",
       "key_skills                                                               []   \n",
       "name                                                         Карщик-грузчик   \n",
       "negotiations_url                                                        NaN   \n",
       "premium                                                               False   \n",
       "published_at                                       2017-10-26T09:27:08+0300   \n",
       "quick_responses_allowed                                               False   \n",
       "relations                                                                []   \n",
       "response_letter_required                                              False   \n",
       "response_url                                                            NaN   \n",
       "salary                    {'to': 120000, 'gross': False, 'from': None, '...   \n",
       "schedule                           {'id': 'fullDay', 'name': 'Полный день'}   \n",
       "site                                          {'id': 'hh', 'name': 'hh.ru'}   \n",
       "specializations           [{'profarea_id': '29', 'profarea_name': 'Рабоч...   \n",
       "suitable_resumes_url                                                    NaN   \n",
       "test                                                                    NaN   \n",
       "type                                     {'id': 'open', 'name': 'Открытая'}   \n",
       "\n",
       "                                                                          1  \\\n",
       "accept_handicapped                                                    False   \n",
       "accept_kids                                                           False   \n",
       "address                   {'building': '13А', 'city': 'Волгоград', 'desc...   \n",
       "allow_messages                                                         True   \n",
       "alternate_url                            https://career.ru/vacancy/23244254   \n",
       "apply_alternate_url       https://hh.ru/applicant/vacancy_response?vacan...   \n",
       "archived                                                               True   \n",
       "area                      {'url': 'https://api.hh.ru/areas/24', 'id': '2...   \n",
       "billing_type                         {'id': 'standard', 'name': 'Стандарт'}   \n",
       "branded_description                                                    None   \n",
       "code                                                                   None   \n",
       "contacts                                                               None   \n",
       "created_at                                         2017-10-26T09:27:07+0300   \n",
       "department                                                             None   \n",
       "description               <p><strong>Сеть автосалонов «Авто-Брокер» приг...   \n",
       "driver_license_types                                                     []   \n",
       "employer                  {'logo_urls': {'90': 'https://hhcdn.ru/employe...   \n",
       "employment                       {'id': 'full', 'name': 'Полная занятость'}   \n",
       "errors                                                                  NaN   \n",
       "experience                {'id': 'between1And3', 'name': 'От 1 года до 3...   \n",
       "hidden                                                                False   \n",
       "id                                                                 23244254   \n",
       "key_skills                [{'name': 'B2C продажи'}, {'name': 'Активные п...   \n",
       "name                                       Менеджер по продажам автомобилей   \n",
       "negotiations_url                                                        NaN   \n",
       "premium                                                               False   \n",
       "published_at                                       2017-10-26T09:27:07+0300   \n",
       "quick_responses_allowed                                               False   \n",
       "relations                                                                []   \n",
       "response_letter_required                                              False   \n",
       "response_url                                                            NaN   \n",
       "salary                    {'to': None, 'gross': False, 'from': 50000, 'c...   \n",
       "schedule                          {'id': 'shift', 'name': 'Сменный график'}   \n",
       "site                                          {'id': 'hh', 'name': 'hh.ru'}   \n",
       "specializations           [{'profarea_id': '7', 'profarea_name': 'Автомо...   \n",
       "suitable_resumes_url                                                    NaN   \n",
       "test                                                                    NaN   \n",
       "type                                     {'id': 'open', 'name': 'Открытая'}   \n",
       "\n",
       "                                                2  \n",
       "accept_handicapped                            NaN  \n",
       "accept_kids                                   NaN  \n",
       "address                                       NaN  \n",
       "allow_messages                                NaN  \n",
       "alternate_url                                 NaN  \n",
       "apply_alternate_url                           NaN  \n",
       "archived                                      NaN  \n",
       "area                                          NaN  \n",
       "billing_type                                  NaN  \n",
       "branded_description                           NaN  \n",
       "code                                          NaN  \n",
       "contacts                                      NaN  \n",
       "created_at                                    NaN  \n",
       "department                                    NaN  \n",
       "description                             Not Found  \n",
       "driver_license_types                          NaN  \n",
       "employer                                      NaN  \n",
       "employment                                    NaN  \n",
       "errors                    [{'type': 'not_found'}]  \n",
       "experience                                    NaN  \n",
       "hidden                                        NaN  \n",
       "id                                            NaN  \n",
       "key_skills                                    NaN  \n",
       "name                                          NaN  \n",
       "negotiations_url                              NaN  \n",
       "premium                                       NaN  \n",
       "published_at                                  NaN  \n",
       "quick_responses_allowed                       NaN  \n",
       "relations                                     NaN  \n",
       "response_letter_required                      NaN  \n",
       "response_url                                  NaN  \n",
       "salary                                        NaN  \n",
       "schedule                                      NaN  \n",
       "site                                          NaN  \n",
       "specializations                               NaN  \n",
       "suitable_resumes_url                          NaN  \n",
       "test                                          NaN  \n",
       "type                                          NaN  "
      ]
     },
     "execution_count": 53,
     "metadata": {},
     "output_type": "execute_result"
    }
   ],
   "source": [
    "df.head(3).T"
   ]
  },
  {
   "cell_type": "code",
   "execution_count": 54,
   "metadata": {},
   "outputs": [],
   "source": [
    "# струкрура сложная, а нужно перевести в плоскую таблицу"
   ]
  },
  {
   "cell_type": "code",
   "execution_count": 55,
   "metadata": {},
   "outputs": [],
   "source": [
    "def salary_currency(x):\n",
    "    return x['currency'] if type(x)==dict else None\n",
    "\n",
    "def salary_from(x):\n",
    "    return x['from'] if type(x)==dict else None\n",
    "\n",
    "def salary_gross(x):\n",
    "    return x['gross'] if type(x)==dict else None\n",
    "\n",
    "def salary_to(x):\n",
    "    return x['to'] if type(x)==dict else None"
   ]
  },
  {
   "cell_type": "code",
   "execution_count": 56,
   "metadata": {},
   "outputs": [],
   "source": [
    "df['salary_currency'] = df['salary'].map(salary_currency)\n",
    "df['salary_from'] = df['salary'].map(salary_from)\n",
    "df['salary_gross'] = df['salary'].map(salary_gross)\n",
    "df['salary_to'] = df['salary'].map(salary_to)\n",
    "\n",
    "del df['salary']"
   ]
  },
  {
   "cell_type": "code",
   "execution_count": 57,
   "metadata": {},
   "outputs": [
    {
     "data": {
      "text/plain": [
       "{'AZN', 'BYR', 'KZT', None, 'RUR', 'UAH', 'USD', 'UZS'}"
      ]
     },
     "execution_count": 57,
     "metadata": {},
     "output_type": "execute_result"
    }
   ],
   "source": [
    "# какие есть валюты?\n",
    "\n",
    "set(df['salary_currency'])"
   ]
  },
  {
   "cell_type": "code",
   "execution_count": null,
   "metadata": {},
   "outputs": [],
   "source": []
  },
  {
   "cell_type": "code",
   "execution_count": 58,
   "metadata": {},
   "outputs": [],
   "source": [
    "def profarea_id(x):\n",
    "    return x[0]['profarea_id'] if type(x)==list else None\n",
    "\n",
    "df['profarea_id'] = df['specializations'].map(profarea_id)\n",
    "\n",
    "del df['specializations']"
   ]
  },
  {
   "cell_type": "code",
   "execution_count": 59,
   "metadata": {},
   "outputs": [],
   "source": [
    "del df['accept_handicapped']\n",
    "del df['accept_kids']\n",
    "del df['alternate_url']\n",
    "\n",
    "del df['apply_alternate_url']\n",
    "del df['archived']"
   ]
  },
  {
   "cell_type": "code",
   "execution_count": 60,
   "metadata": {},
   "outputs": [],
   "source": [
    "def area_id(x):\n",
    "    return x['id'] if type(x)==dict else None\n",
    "\n",
    "df['area_id'] = df['area'].map(area_id)\n",
    "\n",
    "del df['area']"
   ]
  },
  {
   "cell_type": "code",
   "execution_count": 61,
   "metadata": {},
   "outputs": [],
   "source": [
    "def type_id(x):\n",
    "    return x['id'] if type(x)==dict else None\n",
    "\n",
    "df['type_id'] = df['type'].map(type_id)\n",
    "\n",
    "del df['type']"
   ]
  },
  {
   "cell_type": "code",
   "execution_count": 62,
   "metadata": {},
   "outputs": [],
   "source": [
    "del df['address']"
   ]
  },
  {
   "cell_type": "code",
   "execution_count": 63,
   "metadata": {},
   "outputs": [],
   "source": [
    "def billing_type_id(x):\n",
    "    return x['id'] if type(x)==dict else None\n",
    "\n",
    "df['billing_type_id'] = df['billing_type'].map(billing_type_id)\n",
    "\n",
    "del df['billing_type']"
   ]
  },
  {
   "cell_type": "code",
   "execution_count": 64,
   "metadata": {},
   "outputs": [],
   "source": [
    "del df['contacts']\n",
    "del df['employer']"
   ]
  },
  {
   "cell_type": "code",
   "execution_count": 65,
   "metadata": {},
   "outputs": [],
   "source": [
    "del df['driver_license_types']"
   ]
  },
  {
   "cell_type": "code",
   "execution_count": 66,
   "metadata": {},
   "outputs": [],
   "source": [
    "del df['id']\n",
    "del df['errors']"
   ]
  },
  {
   "cell_type": "code",
   "execution_count": 67,
   "metadata": {},
   "outputs": [],
   "source": [
    "\n",
    "del df['negotiations_url']\n",
    "\n"
   ]
  },
  {
   "cell_type": "code",
   "execution_count": 68,
   "metadata": {},
   "outputs": [],
   "source": [
    "del df['relations']"
   ]
  },
  {
   "cell_type": "code",
   "execution_count": 69,
   "metadata": {},
   "outputs": [],
   "source": [
    "def employment_id(x):\n",
    "    return x['id'] if type(x)==dict else None\n",
    "\n",
    "df['employment_id'] = df['employment'].map(employment_id)\n",
    "del df['employment']"
   ]
  },
  {
   "cell_type": "code",
   "execution_count": 70,
   "metadata": {},
   "outputs": [],
   "source": [
    "del df['site']"
   ]
  },
  {
   "cell_type": "code",
   "execution_count": 71,
   "metadata": {},
   "outputs": [],
   "source": [
    "del df['created_at']\n",
    "del df['published_at']"
   ]
  },
  {
   "cell_type": "code",
   "execution_count": 72,
   "metadata": {},
   "outputs": [],
   "source": [
    "def schedule_id(x):\n",
    "    return x['id'] if type(x)==dict else None\n",
    "\n",
    "df['schedule_id'] = df['schedule'].map(schedule_id)\n",
    "del df['schedule']"
   ]
  },
  {
   "cell_type": "code",
   "execution_count": 73,
   "metadata": {},
   "outputs": [],
   "source": [
    "def experience_id(x):\n",
    "    return x['id'] if type(x)==dict else None\n",
    "\n",
    "df['experience_id'] = df['experience'].map(schedule_id)\n",
    "del df['experience']"
   ]
  },
  {
   "cell_type": "code",
   "execution_count": 74,
   "metadata": {},
   "outputs": [],
   "source": [
    "del df['key_skills']\n",
    "del df['test']\n",
    "del df['suitable_resumes_url']"
   ]
  },
  {
   "cell_type": "code",
   "execution_count": 75,
   "metadata": {},
   "outputs": [],
   "source": [
    "df['all_text'] = [\n",
    "    (x if type(x)==str else ' ') + ' ' +\n",
    "    (y if type(y)==str else ' ') \n",
    "    for x, y in zip(\n",
    "    df['name'],\n",
    "    df['description'])]"
   ]
  },
  {
   "cell_type": "code",
   "execution_count": 76,
   "metadata": {},
   "outputs": [],
   "source": [
    "del df['name']\n",
    "del df['description']"
   ]
  },
  {
   "cell_type": "code",
   "execution_count": 77,
   "metadata": {},
   "outputs": [],
   "source": [
    "from bs4 import BeautifulSoup"
   ]
  },
  {
   "cell_type": "code",
   "execution_count": 78,
   "metadata": {},
   "outputs": [],
   "source": [
    "df['all_text'] = df['all_text'].map(\n",
    "    lambda x: BeautifulSoup(x, \"lxml\").text\n",
    ")"
   ]
  },
  {
   "cell_type": "code",
   "execution_count": 79,
   "metadata": {},
   "outputs": [],
   "source": [
    "df['with_salary'] = [\n",
    "    1 if (x > 0) or (y > 0) else 0 for x,y in zip(\n",
    "        df['salary_from'], df['salary_to'])]"
   ]
  },
  {
   "cell_type": "code",
   "execution_count": 80,
   "metadata": {},
   "outputs": [],
   "source": [
    "del df['salary_from'], df['salary_to'], df['salary_currency'], df['salary_gross']"
   ]
  },
  {
   "cell_type": "code",
   "execution_count": 81,
   "metadata": {},
   "outputs": [],
   "source": [
    "del df['branded_description']\n",
    "del df['department']\n",
    "del df['code']"
   ]
  },
  {
   "cell_type": "code",
   "execution_count": 82,
   "metadata": {},
   "outputs": [],
   "source": [
    "texts = df['all_text']"
   ]
  },
  {
   "cell_type": "code",
   "execution_count": 83,
   "metadata": {},
   "outputs": [],
   "source": [
    "del df['all_text']"
   ]
  },
  {
   "cell_type": "code",
   "execution_count": 84,
   "metadata": {},
   "outputs": [],
   "source": [
    "df = pd.get_dummies(df)"
   ]
  },
  {
   "cell_type": "code",
   "execution_count": 85,
   "metadata": {
    "scrolled": true
   },
   "outputs": [
    {
     "name": "stdout",
     "output_type": "stream",
     "text": [
      "profarea_id_1\n",
      "profarea_id_10\n",
      "profarea_id_11\n",
      "profarea_id_12\n",
      "profarea_id_13\n",
      "profarea_id_14\n",
      "profarea_id_15\n",
      "profarea_id_17\n",
      "profarea_id_18\n",
      "profarea_id_19\n",
      "profarea_id_2\n",
      "profarea_id_20\n",
      "profarea_id_21\n",
      "profarea_id_22\n",
      "profarea_id_23\n",
      "profarea_id_24\n",
      "profarea_id_25\n",
      "profarea_id_26\n",
      "profarea_id_27\n",
      "profarea_id_29\n",
      "profarea_id_3\n",
      "profarea_id_4\n",
      "profarea_id_5\n",
      "profarea_id_6\n",
      "profarea_id_7\n",
      "profarea_id_8\n",
      "profarea_id_9\n",
      "area_id_1\n",
      "area_id_10\n",
      "area_id_1002\n",
      "area_id_1003\n",
      "area_id_1004\n",
      "area_id_1006\n",
      "area_id_1007\n",
      "area_id_102\n",
      "area_id_104\n",
      "area_id_106\n",
      "area_id_1067\n",
      "area_id_107\n",
      "area_id_11\n",
      "area_id_1106\n",
      "area_id_1115\n",
      "area_id_112\n",
      "area_id_1126\n",
      "area_id_1140\n",
      "area_id_115\n",
      "area_id_117\n",
      "area_id_12\n",
      "area_id_1204\n",
      "area_id_122\n",
      "area_id_1231\n",
      "area_id_1235\n",
      "area_id_1236\n",
      "area_id_1240\n",
      "area_id_1242\n",
      "area_id_1243\n",
      "area_id_1248\n",
      "area_id_1262\n",
      "area_id_1264\n",
      "area_id_1266\n",
      "area_id_1269\n",
      "area_id_127\n",
      "area_id_129\n",
      "area_id_1291\n",
      "area_id_1296\n",
      "area_id_1297\n",
      "area_id_1298\n",
      "area_id_1299\n",
      "area_id_130\n",
      "area_id_131\n",
      "area_id_1318\n",
      "area_id_1345\n",
      "area_id_135\n",
      "area_id_1351\n",
      "area_id_1354\n",
      "area_id_1360\n",
      "area_id_1361\n",
      "area_id_1362\n",
      "area_id_1363\n",
      "area_id_1364\n",
      "area_id_1366\n",
      "area_id_1370\n",
      "area_id_1374\n",
      "area_id_1375\n",
      "area_id_1378\n",
      "area_id_1381\n",
      "area_id_1385\n",
      "area_id_1387\n",
      "area_id_1388\n",
      "area_id_1389\n",
      "area_id_1390\n",
      "area_id_1391\n",
      "area_id_1392\n",
      "area_id_1393\n",
      "area_id_1394\n",
      "area_id_1395\n",
      "area_id_1396\n",
      "area_id_1397\n",
      "area_id_1398\n",
      "area_id_1399\n",
      "area_id_14\n",
      "area_id_1400\n",
      "area_id_1403\n",
      "area_id_1404\n",
      "area_id_1405\n",
      "area_id_1406\n",
      "area_id_1407\n",
      "area_id_1408\n",
      "area_id_1409\n",
      "area_id_1410\n",
      "area_id_1411\n",
      "area_id_1412\n",
      "area_id_1413\n",
      "area_id_1420\n",
      "area_id_1423\n",
      "area_id_1440\n",
      "area_id_1453\n",
      "area_id_1454\n",
      "area_id_147\n",
      "area_id_1498\n",
      "area_id_15\n",
      "area_id_1514\n",
      "area_id_1516\n",
      "area_id_1518\n",
      "area_id_152\n",
      "area_id_153\n",
      "area_id_154\n",
      "area_id_159\n",
      "area_id_1594\n",
      "area_id_1599\n",
      "area_id_160\n",
      "area_id_1601\n",
      "area_id_1613\n",
      "area_id_1625\n",
      "area_id_1633\n",
      "area_id_1634\n",
      "area_id_1636\n",
      "area_id_1639\n",
      "area_id_1641\n",
      "area_id_1650\n",
      "area_id_1653\n",
      "area_id_1654\n",
      "area_id_1657\n",
      "area_id_1691\n",
      "area_id_17\n",
      "area_id_172\n",
      "area_id_1730\n",
      "area_id_174\n",
      "area_id_1753\n",
      "area_id_176\n",
      "area_id_177\n",
      "area_id_180\n",
      "area_id_181\n",
      "area_id_1815\n",
      "area_id_1818\n",
      "area_id_1825\n",
      "area_id_1847\n",
      "area_id_185\n",
      "area_id_187\n",
      "area_id_188\n",
      "area_id_1895\n",
      "area_id_19\n",
      "area_id_190\n",
      "area_id_194\n",
      "area_id_1956\n",
      "area_id_198\n",
      "area_id_1996\n",
      "area_id_1997\n",
      "area_id_2\n",
      "area_id_20\n",
      "area_id_2014\n",
      "area_id_2016\n",
      "area_id_2021\n",
      "area_id_2025\n",
      "area_id_2028\n",
      "area_id_2033\n",
      "area_id_2040\n",
      "area_id_2041\n",
      "area_id_205\n",
      "area_id_2053\n",
      "area_id_2065\n",
      "area_id_2069\n",
      "area_id_2070\n",
      "area_id_2087\n",
      "area_id_2088\n",
      "area_id_2089\n",
      "area_id_2090\n",
      "area_id_2098\n",
      "area_id_2104\n",
      "area_id_212\n",
      "area_id_2120\n",
      "area_id_22\n",
      "area_id_2239\n",
      "area_id_2265\n",
      "area_id_2280\n",
      "area_id_2291\n",
      "area_id_2296\n",
      "area_id_23\n",
      "area_id_2311\n",
      "area_id_2316\n",
      "area_id_2317\n",
      "area_id_2325\n",
      "area_id_2328\n",
      "area_id_2366\n",
      "area_id_237\n",
      "area_id_24\n",
      "area_id_2492\n",
      "area_id_25\n",
      "area_id_26\n",
      "area_id_2759\n",
      "area_id_2760\n",
      "area_id_3\n",
      "area_id_3056\n",
      "area_id_32\n",
      "area_id_35\n",
      "area_id_3803\n",
      "area_id_4\n",
      "area_id_4022\n",
      "area_id_41\n",
      "area_id_43\n",
      "area_id_4571\n",
      "area_id_4588\n",
      "area_id_46\n",
      "area_id_4679\n",
      "area_id_47\n",
      "area_id_4727\n",
      "area_id_49\n",
      "area_id_4981\n",
      "area_id_5015\n",
      "area_id_52\n",
      "area_id_53\n",
      "area_id_54\n",
      "area_id_55\n",
      "area_id_56\n",
      "area_id_5790\n",
      "area_id_5792\n",
      "area_id_5793\n",
      "area_id_58\n",
      "area_id_5801\n",
      "area_id_5811\n",
      "area_id_61\n",
      "area_id_64\n",
      "area_id_66\n",
      "area_id_68\n",
      "area_id_69\n",
      "area_id_70\n",
      "area_id_71\n",
      "area_id_72\n",
      "area_id_75\n",
      "area_id_76\n",
      "area_id_77\n",
      "area_id_78\n",
      "area_id_79\n",
      "area_id_80\n",
      "area_id_81\n",
      "area_id_83\n",
      "area_id_87\n",
      "area_id_88\n",
      "area_id_89\n",
      "area_id_90\n",
      "area_id_92\n",
      "area_id_95\n",
      "area_id_96\n",
      "area_id_98\n",
      "area_id_99\n"
     ]
    }
   ],
   "source": [
    "for i in df.columns:\n",
    "    if 'area' in i:\n",
    "        print(i)"
   ]
  },
  {
   "cell_type": "code",
   "execution_count": 86,
   "metadata": {},
   "outputs": [],
   "source": [
    "y = df['with_salary']\n",
    "del df['with_salary']"
   ]
  },
  {
   "cell_type": "code",
   "execution_count": 96,
   "metadata": {},
   "outputs": [],
   "source": [
    "del df['response_url']"
   ]
  },
  {
   "cell_type": "code",
   "execution_count": 97,
   "metadata": {},
   "outputs": [],
   "source": [
    "from sklearn.cross_validation import train_test_split"
   ]
  },
  {
   "cell_type": "code",
   "execution_count": 98,
   "metadata": {},
   "outputs": [],
   "source": [
    "X_train, X_test, y_train, y_test = train_test_split(df, y, test_size=0.3)"
   ]
  },
  {
   "cell_type": "code",
   "execution_count": 99,
   "metadata": {},
   "outputs": [],
   "source": [
    "from sklearn.tree import DecisionTreeClassifier"
   ]
  },
  {
   "cell_type": "code",
   "execution_count": 100,
   "metadata": {},
   "outputs": [],
   "source": [
    "dtc = DecisionTreeClassifier(max_depth=6)"
   ]
  },
  {
   "cell_type": "code",
   "execution_count": 101,
   "metadata": {},
   "outputs": [
    {
     "data": {
      "text/plain": [
       "DecisionTreeClassifier(class_weight=None, criterion='gini', max_depth=6,\n",
       "            max_features=None, max_leaf_nodes=None,\n",
       "            min_impurity_decrease=0.0, min_impurity_split=None,\n",
       "            min_samples_leaf=1, min_samples_split=2,\n",
       "            min_weight_fraction_leaf=0.0, presort=False, random_state=None,\n",
       "            splitter='best')"
      ]
     },
     "execution_count": 101,
     "metadata": {},
     "output_type": "execute_result"
    }
   ],
   "source": [
    "dtc.fit(X_train, y_train)"
   ]
  },
  {
   "cell_type": "code",
   "execution_count": 102,
   "metadata": {},
   "outputs": [
    {
     "name": "stdout",
     "output_type": "stream",
     "text": [
      "rm: img.dot: No such file or directory\n",
      "rm: img.png: No such file or directory\n"
     ]
    }
   ],
   "source": [
    "!rm img.dot\n",
    "!rm img.png\n"
   ]
  },
  {
   "cell_type": "code",
   "execution_count": 103,
   "metadata": {},
   "outputs": [
    {
     "name": "stdout",
     "output_type": "stream",
     "text": [
      "-rw-r--r--  1 p.ermakov  staff   3.7K Dec 15 16:41 img.dot\r\n"
     ]
    }
   ],
   "source": [
    "from sklearn.tree import export_graphviz\n",
    "export_graphviz(dtc, feature_names=X_train.columns, \n",
    "                out_file='img.dot', filled=True)\n",
    "\n",
    "!ls -alh img.dot"
   ]
  },
  {
   "cell_type": "code",
   "execution_count": 104,
   "metadata": {},
   "outputs": [],
   "source": [
    "!dot -Tpng img.dot -o img.png"
   ]
  },
  {
   "cell_type": "markdown",
   "metadata": {},
   "source": [
    "<img src='img.png'>"
   ]
  },
  {
   "cell_type": "code",
   "execution_count": 105,
   "metadata": {},
   "outputs": [],
   "source": [
    "from sklearn.ensemble import RandomForestClassifier"
   ]
  },
  {
   "cell_type": "code",
   "execution_count": 106,
   "metadata": {},
   "outputs": [],
   "source": [
    "rfc = RandomForestClassifier(n_estimators=10)"
   ]
  },
  {
   "cell_type": "code",
   "execution_count": 107,
   "metadata": {},
   "outputs": [
    {
     "data": {
      "text/plain": [
       "RandomForestClassifier(bootstrap=True, class_weight=None, criterion='gini',\n",
       "            max_depth=None, max_features='auto', max_leaf_nodes=None,\n",
       "            min_impurity_decrease=0.0, min_impurity_split=None,\n",
       "            min_samples_leaf=1, min_samples_split=2,\n",
       "            min_weight_fraction_leaf=0.0, n_estimators=10, n_jobs=1,\n",
       "            oob_score=False, random_state=None, verbose=0,\n",
       "            warm_start=False)"
      ]
     },
     "execution_count": 107,
     "metadata": {},
     "output_type": "execute_result"
    }
   ],
   "source": [
    "rfc.fit(X_train, y_train)"
   ]
  },
  {
   "cell_type": "code",
   "execution_count": 108,
   "metadata": {},
   "outputs": [],
   "source": [
    "from sklearn.metrics import accuracy_score"
   ]
  },
  {
   "cell_type": "code",
   "execution_count": 109,
   "metadata": {},
   "outputs": [],
   "source": [
    "predict = rfc.predict(X_test)"
   ]
  },
  {
   "cell_type": "code",
   "execution_count": 110,
   "metadata": {},
   "outputs": [
    {
     "data": {
      "text/plain": [
       "0.68999999999999995"
      ]
     },
     "execution_count": 110,
     "metadata": {},
     "output_type": "execute_result"
    }
   ],
   "source": [
    "accuracy_score(y_test, predict)"
   ]
  },
  {
   "cell_type": "code",
   "execution_count": null,
   "metadata": {},
   "outputs": [],
   "source": []
  }
 ],
 "metadata": {
  "kernelspec": {
   "display_name": "Python 3",
   "language": "python",
   "name": "python3"
  },
  "language_info": {
   "codemirror_mode": {
    "name": "ipython",
    "version": 3
   },
   "file_extension": ".py",
   "mimetype": "text/x-python",
   "name": "python",
   "nbconvert_exporter": "python",
   "pygments_lexer": "ipython3",
   "version": "3.6.3"
  }
 },
 "nbformat": 4,
 "nbformat_minor": 2
}
